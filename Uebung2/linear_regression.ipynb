{
 "cells": [
  {
   "attachments": {},
   "cell_type": "markdown",
   "metadata": {},
   "source": [
    "# Übung 02 - Lineare Regression\n",
    "### <span style=\"color:CornflowerBlue\">Abgabetermin: 17.04.2023</span>\n",
    "### <span style=\"color:CornflowerBlue\">Abgabe über Git. Speichern Sie die Übung in dem Ordner 02-Uebung in Ihrem Git.</span>\n",
    "In der Übung soll mithilfe der linearen Regression und dem Gradientenabstiegsverfahren ein Modell erstellt werden, dass eine Vorhersage für eine Zielvariable $y$ mit einer Eingangsvariable $x$ treffen kann. Im ersten Schritt soll eine geeignete Hypothese für die gegeben Daten gewählt werden. Anschließend sollen die Parameter der Hypothese so angepasst werden, dass die Vorhersagefehler minimiert werden. Dabei wird des Gradientenabstiegsverfahren als Optimierungsalgorithmus eingesetzt, um die optimalen Parameter der Hypothese zu finden. Zusätzlich sollen Abbildungen erstellt werden um die Kostenfunktion und Hypothese zu visualisieren."
   ]
  },
  {
   "cell_type": "code",
   "execution_count": 2,
   "metadata": {},
   "outputs": [],
   "source": [
    "# Liste der imports\n",
    "import numpy as np\n",
    "import pandas as pd\n",
    "import seaborn as sns\n",
    "import matplotlib.pyplot as plt\n",
    "\n",
    "sns.set()\n",
    "\n",
    "%matplotlib inline"
   ]
  },
  {
   "attachments": {},
   "cell_type": "markdown",
   "metadata": {},
   "source": [
    "## Aufgabe 1\n",
    "Verwenden Sie in der Übung die folgenden zwei Arrays, mit $X$ als Eingangsvariable und $Y$ als Zielvariable."
   ]
  },
  {
   "cell_type": "code",
   "execution_count": 3,
   "metadata": {},
   "outputs": [],
   "source": [
    "X = np.array([0., 0.05, 0.11, 0.16, 0.21, 0.26, 0.32, 0.37, 0.42, 0.47, 0.53, 0.58, 0.63, 0.68, 0.74, 0.79, 0.84, 0.89, 0.95, 1.])\n",
    "Y = np.array([0.06, -0.02, -0.01, -0.02, 0.07, -0.04, 0.15, 0.08, 0.15, 0.17, 0.28, 0.19, 0.31, 0.36, 0.48, 0.45, 0.56, 0.61, 0.72, 0.82])"
   ]
  },
  {
   "attachments": {},
   "cell_type": "markdown",
   "metadata": {},
   "source": [
    "Visualisieren Sie die Daten mit einem Scatterplot. Lässt sich aus der Verteilung der Daten eine geeignete Hypothese ableiten?"
   ]
  },
  {
   "cell_type": "code",
   "execution_count": 4,
   "metadata": {},
   "outputs": [
    {
     "name": "stderr",
     "output_type": "stream",
     "text": [
      "No artists with labels found to put in legend.  Note that artists whose label start with an underscore are ignored when legend() is called with no argument.\n"
     ]
    },
    {
     "data": {
      "text/plain": [
       "<matplotlib.legend.Legend at 0x24b4a7d3640>"
      ]
     },
     "execution_count": 4,
     "metadata": {},
     "output_type": "execute_result"
    },
    {
     "data": {
      "image/png": "[encoded data removed]",
      "text/plain": [
       "<Figure size 640x480 with 1 Axes>"
      ]
     },
     "metadata": {},
     "output_type": "display_data"
    }
   ],
   "source": [
    "# your code here\n",
    "\n",
    "plt.scatter(X, Y, c=\"red\")\n",
    "\n",
    "plt.title(\"Array\")\n",
    "plt.xlabel(\"Eingangsvariable\")\n",
    "plt.ylabel(\"Zielvariable\")\n",
    "plt.legend(loc=\"lower center\")\n",
    "\n",
    "#Parabel oder e^x\n"
   ]
  },
  {
   "attachments": {},
   "cell_type": "markdown",
   "metadata": {},
   "source": [
    "## Aufgabe 2\n",
    "Implementieren Sie eine Klasse für die Lineare Regression. <span style=\"color:CornflowerBlue\">**Verwenden Sie eine Hypothese, die für die Daten aus Aufgabe 1 geeignet ist.**</span>\n",
    "Die Klasse soll in der Lage sein, die Kostenfunktion für eine gegebene Menge von Trainingsdaten zu berechnen, die Parameter für die lineare Regression mithilfe des Gradientenabstiegverfahrens zu bestimmen und Vorhersagen für neue Daten zu treffen. Verwenden Sie dafür das vorgegebene Template in der nächsten Zelle. Die folgenden Methoden müssen implementiert werden:\n",
    "\n",
    "* <em>\\_\\_init\\_\\_(self, learning_rate, iterations)</em>: Konstruktor, der die Lernrate und die Anzahl der Iterationen initialisiert mit denen der Gradientenabstieg ausgeführt wird.\n",
    "\n",
    "* <em>cost_history(self)</em>: Gibt eine Liste zurück in der die Kosten von jedem Schritt des Gradientenabstiegs gespeichert sind.\n",
    "\n",
    "* <em>cost_function(self, Y, y_pred)</em>: Die Kostenfunktion, die die Unterschiede zwischen den Vorhersagen und den tatsächlichen Werten berechnet.\n",
    "\n",
    "* <em>fit(self, X, y)</em>: Eine Methode, die den Gradientenabstieg ausführt, um die besten Parameter für die Lineare Regression zu finden.\n",
    "\n",
    "* <em>predict(self, X)</em>: Eine Methode, die die Hypothese der linearen Regression auf neue Daten anwendet, um Vorhersagen zu treffen.\n",
    "\n",
    "\n",
    "Setzen sie vor dem Start des Gradientabstiegsverfahren die Parameter $\\theta:=0$.\n",
    "\n",
    "\n",
    "\n",
    "<span style=\"color:red\">**Die Implementierung wird für die Bewertung automatisch getestet. Sie dürfen nur die in der Zelle importierten Bibliotheken verwenden. Modifizieren Sie nicht die Liste der Imports, die Signaturen der Methoden und entfernen Sie nicht das \"assessment\" Tag. Sie können jedoch beliebig viele weitere Methoden und Membervariablen in der Klasse definieren.**</span>"
   ]
  },
  {
   "attachments": {},
   "cell_type": "markdown",
   "metadata": {},
   "source": [
    "### a) Implementierung"
   ]
  },
  {
   "cell_type": "code",
   "execution_count": 5,
   "metadata": {
    "tags": [
     "assessment"
    ]
   },
   "outputs": [],
   "source": [
    "import numpy as np\n",
    "import typing\n",
    "\n",
    "class LinearRegression:\n",
    "    def __init__(self, learning_rate: float=0.1, iterations: int=1000) -> None:\n",
    "        \"\"\"\n",
    "        Define and initialize your class members here.\n",
    "\n",
    "        Parameters\n",
    "        ----------\n",
    "        learning_rate : float\n",
    "            The learning rate used in gradient descent\n",
    "        iterations : int\n",
    "            The number of iterations to run gradient descent\n",
    "        \"\"\"\n",
    "        # your code here\n",
    "\n",
    "        self.learning_rate = learning_rate\n",
    "        self.iteration = iterations\n",
    "\n",
    "    @property\n",
    "    def cost_history(self) -> typing.List[float]:\n",
    "        \"\"\"\n",
    "        Returns\n",
    "        -------\n",
    "        List[float]\n",
    "            List that contains the cost at each step of gradient descent.\n",
    "        \"\"\"\n",
    "        # your code here\n",
    "\n",
    "    def cost_function(self, y: np.array, y_pred: np.array) -> float:\n",
    "        \"\"\"\n",
    "        Implement the cost function.\n",
    "\n",
    "        Parameters\n",
    "        ----------\n",
    "        y : np.array\n",
    "            Array with targets\n",
    "        y_pred :\n",
    "            Array with predicted targets\n",
    "\n",
    "        Returns\n",
    "        -------\n",
    "        float\n",
    "            costs\n",
    "        \"\"\"\n",
    "        # your code here\n",
    "\n",
    "    def fit(self, X: np.array, y: np.array) -> None:\n",
    "        \"\"\"\n",
    "        Implement a method that fits the parameters theta of your hypothesis with gradient descent to the data.\n",
    "        Performs the gradient descent for the given numbers of iterations.\n",
    "\n",
    "        Parameters\n",
    "        ----------\n",
    "        X : np.array\n",
    "            input data\n",
    "        y : np.array\n",
    "            target data \n",
    "        \"\"\"\n",
    "        # your code here\n",
    "\n",
    "    def predict(self, X: np.array) -> np.array:\n",
    "        \"\"\"\n",
    "        Implement your hypothesis here!\n",
    "        Predicts the targets for the given input X by applying the hypothesis.\n",
    "        \n",
    "        Parameters\n",
    "        ----------\n",
    "        X : np.array\n",
    "            \n",
    "        Returns\n",
    "        ----------\n",
    "        np.array\n",
    "            Array with predicted target values.\n",
    "        \"\"\"\n",
    "        # your code here\n",
    "\n",
    "        #h = (float) t + t*x + t*x**2\n"
   ]
  },
  {
   "attachments": {},
   "cell_type": "markdown",
   "metadata": {},
   "source": [
    "### b) Ausführen und Visualisieren\n",
    "\n",
    "#### <span style=\"color:CornflowerBlue\">Speichern sie die Abbildung unter 02-Uebung/Aufgabe2b.png in git.</span>\n",
    "\n",
    "Führen Sie die von Ihnen implementierte Lineare Regression auf den in Aufgabe 1 gegebenen Daten aus und visualisieren Sie die Hypothese und die Kosten des Gradientenabstiegs. Erstellen Sie dazu zwei Abbildungen nebeneinander. Auf der linken Seite der Abbildung sollen die gegebenen Daten $(X, Y)$ sowie die Hypothese nach der Optimierung der Parameter angezeigt werden. Auf der rechten Seite der Abbildung sollen die Kosten in Abhängigkeit der Iterationen dargestellt werden. Wählen sie hierzu eine geeignete Lernrate und Anzahl von Iterationen."
   ]
  },
  {
   "cell_type": "code",
   "execution_count": 6,
   "metadata": {},
   "outputs": [],
   "source": [
    "# your code here"
   ]
  },
  {
   "attachments": {},
   "cell_type": "markdown",
   "metadata": {},
   "source": [
    "### c) Visualisieren der Lernkurve\n",
    "\n",
    "#### <span style=\"color:CornflowerBlue\">Speichern Sie die Abbildung unter 02-Uebung/Aufgabe2c.png  in git.</span>\n",
    "\n",
    "Um die Kosten für den Gradientenabstieg mit unterschiedlichen Lernraten zu visualisieren, erstellen Sie eine Abbildung mit den Kosten auf der x-Achse und den Iterationen auf der y-Achse. Verwenden Sie hierfür die Kosten, welche <em>cost\\_history</em> zurück gibt. Plotten Sie die Kosten für die folgenden Lernraten: $[0.5, 0.3, 0.1, 0.01]$ mit jeweils $100$ Iterationen. Fügen Sie eine Legende hinzu, welche die Lernrate für die jeweilige Kurve anzeigt."
   ]
  },
  {
   "cell_type": "code",
   "execution_count": 7,
   "metadata": {
    "tags": []
   },
   "outputs": [],
   "source": [
    "# your code here"
   ]
  },
  {
   "attachments": {},
   "cell_type": "markdown",
   "metadata": {},
   "source": [
    "## Testen der Implementierung\n",
    "Testdaten zum Überprüfen der Implemetierung. Wenn sie Ihre Implementierung auf den Trainingsdaten $(X,Y)$ mit einer $learning\\_rate=0.5$ und $iterations=1000$ trainieren, sollten sie auf den Testdaten einen $r2\\_score \\approx 0.98$ und einen $MSE \\approx 0.001$ erreichen.\n",
    "Führen sie hierzu die Vorhersage ($predict$) auf den Testeingangsdaten ($X\\_test$) aus und vergleichen sie das Ergebnis mit den Testzieldaten ($Y\\_test$).\n"
   ]
  },
  {
   "cell_type": "code",
   "execution_count": 8,
   "metadata": {},
   "outputs": [],
   "source": [
    "X_test = np.array([0., 0.11, 0.22, 0.33, 0.44, 0.56, 0.67, 0.78, 0.89, 1.])\n",
    "y_test = np.array([-0.04,  0.06,  0.08,  0.11,  0.19,  0.22,  0.35,  0.45,  0.62, 0.82])"
   ]
  }
 ],
 "metadata": {
  "kernelspec": {
   "display_name": "Python 3",
   "language": "python",
   "name": "python3"
  },
  "language_info": {
   "codemirror_mode": {
    "name": "ipython",
    "version": 3
   },
   "file_extension": ".py",
   "mimetype": "text/x-python",
   "name": "python",
   "nbconvert_exporter": "python",
   "pygments_lexer": "ipython3",
   "version": "3.10.8"
  },
  "orig_nbformat": 4,
  "vscode": {
   "interpreter": {
    "hash": "916dbcbb3f70747c44a77c7bcd40155683ae19c65e1c03b4aa3499c5328201f1"
   }
  }
 },
 "nbformat": 4,
 "nbformat_minor": 2
}
